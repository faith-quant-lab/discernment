{
  "nbformat": 4,
  "nbformat_minor": 0,
  "metadata": {
    "colab": {
      "name": "DataDescription.ipynb",
      "version": "0.3.2",
      "provenance": [],
      "collapsed_sections": [],
      "include_colab_link": true
    },
    "kernelspec": {
      "name": "python3",
      "display_name": "Python 3"
    }
  },
  "cells": [
    {
      "cell_type": "markdown",
      "metadata": {
        "id": "view-in-github",
        "colab_type": "text"
      },
      "source": [
        "<a href=\"https://colab.research.google.com/github/faith-quant-lab/discernment/blob/master/DataDescription.ipynb\" target=\"_parent\"><img src=\"https://colab.research.google.com/assets/colab-badge.svg\" alt=\"Open In Colab\"/></a>"
      ]
    },
    {
      "cell_type": "markdown",
      "metadata": {
        "id": "Z-RCU6MgBpfI",
        "colab_type": "text"
      },
      "source": [
        "# Research on discernment\n",
        "Here we describe and illustrate data resources that can stimulate research related to the topic of discernment, namely:\n",
        "\n",
        "Given an inflential person, organization, or resource, determine programmatically\n",
        "\n",
        "* whether there is any controverse on doctrinal issues\n",
        "* what are the theological positions associated with the person or resource\n",
        "* what are the associations or affiliations\n",
        "\n",
        "Implicitly we desire ways to map out the conceptual space of which doctrine and discernment concerns.\n",
        "\n",
        "\n",
        "## PersonDiscern.pickle\n",
        "\n",
        "The file PersonDiscern.pickle is created manually by missions students, as a small sample of 200 influential leaders and influencers in the Christian faith domain, together with various attributes describing them. The small sample size suggest that we can use the data as a precious test set to evaluate possible ways that we can learn such information automatically from other source of knowledge.\n"
      ]
    },
    {
      "cell_type": "code",
      "metadata": {
        "id": "DW51l_X6Bigz",
        "colab_type": "code",
        "colab": {}
      },
      "source": [
        "import pandas as pd\n",
        "pd.options.display.max_colwidth = 140\n",
        "import pickle\n",
        "with open(\"data/PersonDiscern.pickle\",\"rb\") as fhandle:\n",
        "    df = pickle.load(fhandle)"
      ],
      "execution_count": 0,
      "outputs": []
    },
    {
      "cell_type": "code",
      "metadata": {
        "id": "68xxBDRwJJMU",
        "colab_type": "code",
        "colab": {
          "base_uri": "https://localhost:8080/",
          "height": 461
        },
        "outputId": "d24c4018-d891-4266-fa1d-4406418658ab"
      },
      "source": [
        "print(\"Number of people in the array:{}\".format(len(df)))\n",
        "\n",
        "df[18:20].T"
      ],
      "execution_count": 11,
      "outputs": [
        {
          "output_type": "stream",
          "text": [
            "Number of people in the array:200\n"
          ],
          "name": "stdout"
        },
        {
          "output_type": "execute_result",
          "data": {
            "text/html": [
              "<div>\n",
              "<style scoped>\n",
              "    .dataframe tbody tr th:only-of-type {\n",
              "        vertical-align: middle;\n",
              "    }\n",
              "\n",
              "    .dataframe tbody tr th {\n",
              "        vertical-align: top;\n",
              "    }\n",
              "\n",
              "    .dataframe thead th {\n",
              "        text-align: right;\n",
              "    }\n",
              "</style>\n",
              "<table border=\"1\" class=\"dataframe\">\n",
              "  <thead>\n",
              "    <tr style=\"text-align: right;\">\n",
              "      <th></th>\n",
              "      <th>18</th>\n",
              "      <th>19</th>\n",
              "    </tr>\n",
              "  </thead>\n",
              "  <tbody>\n",
              "    <tr>\n",
              "      <th>Person</th>\n",
              "      <td>Ben Stuart</td>\n",
              "      <td>Benny Hinn</td>\n",
              "    </tr>\n",
              "    <tr>\n",
              "      <th>Summary</th>\n",
              "      <td>Ben Stuart is the pastor of Passion City Church, Washington D.C. He was also the executive director of Breakaway Ministries. He hold a m...</td>\n",
              "      <td>Benny Hinn is an internationally known speaker. He often holds healing services during his speaking engagements. His ministry has a Radi...</td>\n",
              "    </tr>\n",
              "    <tr>\n",
              "      <th>Role</th>\n",
              "      <td>Pastor</td>\n",
              "      <td>Evangelist,Author,ContentProvider</td>\n",
              "    </tr>\n",
              "    <tr>\n",
              "      <th>Theology</th>\n",
              "      <td>NotPrimary</td>\n",
              "      <td>Infallibility,Pentecostalism,Credobaptism,Dispensationalism,Pre-TribulationalPremillennialism,Futurism,WesleyanArminianism</td>\n",
              "    </tr>\n",
              "    <tr>\n",
              "      <th>Affiliation</th>\n",
              "      <td>Passion City Church, Breakaway Ministries</td>\n",
              "      <td>Benny Hinn Ministries, Benny Hinn School of Ministry, Benny Hinn Ministries Internet Radio\\n</td>\n",
              "    </tr>\n",
              "    <tr>\n",
              "      <th>Products</th>\n",
              "      <td>\"Single, Dating, Engaged, Married: Navigating Life and Love in the Modern Age\",This Changes Everything - Bible Study Book: Lessons from ...</td>\n",
              "      <td>Benny Hinn Ministries ,\"Good Morning, Holy Spirit\",Prayer that Gets Results,\"Lord, I need a miracle\"</td>\n",
              "    </tr>\n",
              "    <tr>\n",
              "      <th>URL</th>\n",
              "      <td>https://www.desiringgod.org/authors/ben-stuart \\nhttps://www.rightnowmedia.org/Content/Speaker/999879 \\nhttps://www.familylife.com/podca...</td>\n",
              "      <td>https://en.wikipedia.org/wiki/Benny_Hinn</td>\n",
              "    </tr>\n",
              "    <tr>\n",
              "      <th>content</th>\n",
              "      <td>404 Error - Page Not Found | Desiring God Desiring God Logo Articles Sermons Topics Books Podcasts Features About Donate Ask Pastor John...</td>\n",
              "      <td>Toufik Benedictus \"Benny\" Hinn (born 3 December 1952) is an Israeli televangelist, best known for his regular \"Miracle Crusades\"—revival...</td>\n",
              "    </tr>\n",
              "    <tr>\n",
              "      <th>controversies</th>\n",
              "      <td>None</td>\n",
              "      <td>Benny Hinn is known for his teaching of the ideas that God always wants you to be wealthy, God always wants you to be healed, and that y...</td>\n",
              "    </tr>\n",
              "    <tr>\n",
              "      <th>controversial</th>\n",
              "      <td>None</td>\n",
              "      <td>Questionable Theology,Known Heresy,Known Scandal</td>\n",
              "    </tr>\n",
              "  </tbody>\n",
              "</table>\n",
              "</div>"
            ],
            "text/plain": [
              "                                                                                                                                                        18                                                                                                                                           19\n",
              "Person                                                                                                                                          Ben Stuart                                                                                                                                   Benny Hinn\n",
              "Summary        Ben Stuart is the pastor of Passion City Church, Washington D.C. He was also the executive director of Breakaway Ministries. He hold a m...  Benny Hinn is an internationally known speaker. He often holds healing services during his speaking engagements. His ministry has a Radi...\n",
              "Role                                                                                                                                                Pastor                                                                                                            Evangelist,Author,ContentProvider\n",
              "Theology                                                                                                                                        NotPrimary                   Infallibility,Pentecostalism,Credobaptism,Dispensationalism,Pre-TribulationalPremillennialism,Futurism,WesleyanArminianism\n",
              "Affiliation                                                                                                      Passion City Church, Breakaway Ministries                                                 Benny Hinn Ministries, Benny Hinn School of Ministry, Benny Hinn Ministries Internet Radio\\n\n",
              "Products       \"Single, Dating, Engaged, Married: Navigating Life and Love in the Modern Age\",This Changes Everything - Bible Study Book: Lessons from ...                                         Benny Hinn Ministries ,\"Good Morning, Holy Spirit\",Prayer that Gets Results,\"Lord, I need a miracle\"\n",
              "URL            https://www.desiringgod.org/authors/ben-stuart \\nhttps://www.rightnowmedia.org/Content/Speaker/999879 \\nhttps://www.familylife.com/podca...                                                                                                     https://en.wikipedia.org/wiki/Benny_Hinn\n",
              "content        404 Error - Page Not Found | Desiring God Desiring God Logo Articles Sermons Topics Books Podcasts Features About Donate Ask Pastor John...  Toufik Benedictus \"Benny\" Hinn (born 3 December 1952) is an Israeli televangelist, best known for his regular \"Miracle Crusades\"—revival...\n",
              "controversies                                                                                                                                         None  Benny Hinn is known for his teaching of the ideas that God always wants you to be wealthy, God always wants you to be healed, and that y...\n",
              "controversial                                                                                                                                         None                                                                                             Questionable Theology,Known Heresy,Known Scandal"
            ]
          },
          "metadata": {
            "tags": []
          },
          "execution_count": 11
        }
      ]
    },
    {
      "cell_type": "markdown",
      "metadata": {
        "id": "7zQpOdxqKrnE",
        "colab_type": "text"
      },
      "source": [
        "# Data Fields\n",
        "\n",
        "For each person, we have the follow information\n",
        "\n",
        "* Person: Name\n",
        "* Summary: Manual summary of the person\n",
        "* Role: The primary role/title/job of the person\n",
        "* Theology: known theological position taken by the person\n",
        "* Affiliation: organizations such as church or ministries related to the person\n",
        "* Products: books, songs, or other objects influencing culture related to the person\n",
        "* URL: wikipedia URL when available, else the top 3 google links from the query: \"Christianity who is PERSON\"\n",
        "* content: the combined content of the URLs\n",
        "* controversies: description of controversies, if any, that the person caused\n",
        "* controversial: category of controversial theology"
      ]
    }
  ]
}